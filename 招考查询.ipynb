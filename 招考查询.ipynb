{
 "cells": [
  {
   "cell_type": "code",
   "execution_count": null,
   "id": "e1df285a-a15e-4889-b443-8c08fb10dace",
   "metadata": {},
   "outputs": [],
   "source": [
    "import pandas as pd"
   ]
  },
  {
   "cell_type": "code",
   "execution_count": null,
   "id": "b147e2d4-6332-450c-85c1-eb508c96f4e0",
   "metadata": {
    "editable": true,
    "slideshow": {
     "slide_type": ""
    },
    "tags": []
   },
   "outputs": [],
   "source": [
    "pd.set_option('display.max_columns', 30)\n",
    "pd.set_option('display.max_rows', 500)"
   ]
  },
  {
   "cell_type": "code",
   "execution_count": null,
   "id": "a92a80a8-cd31-46de-8fa6-c78564871924",
   "metadata": {},
   "outputs": [],
   "source": [
    "file1 = pd.read_excel(r\"C:\\Users\\Administrator\\Downloads\\2024年度考试录用公务员招考简章\\招考.xls\",sheet_name=[0,1,2,3],header=1)"
   ]
  },
  {
   "cell_type": "code",
   "execution_count": null,
   "id": "f9852ba6-52a0-4d6a-9d4c-d5b96ef57d08",
   "metadata": {},
   "outputs": [],
   "source": [
    "for i in range(4):\n",
    "    print(file1[i].shape)"
   ]
  },
  {
   "cell_type": "code",
   "execution_count": null,
   "id": "c1031d96-fb53-4e92-9ca0-a767aa4e4543",
   "metadata": {},
   "outputs": [],
   "source": [
    "for i in range(4):\n",
    "    print(file1[i].columns)"
   ]
  },
  {
   "cell_type": "code",
   "execution_count": null,
   "id": "eaa488f1-84de-4576-a3d7-1ea8ab9fc515",
   "metadata": {},
   "outputs": [],
   "source": [
    "cols = ['专业','政治面貌','基层工作最低年限','服务基层项目工作经历']\n",
    "for i in range(4):\n",
    "    for j in cols:\n",
    "        print(file1[i][j].value_counts())"
   ]
  },
  {
   "cell_type": "code",
   "execution_count": null,
   "id": "d09a7cb7-0326-46ea-a5e2-8740b32d5ca2",
   "metadata": {},
   "outputs": [],
   "source": [
    "for i in range(4):\n",
    "    print(file1[i]['学历'].value_counts())"
   ]
  },
  {
   "cell_type": "markdown",
   "id": "2d12083a",
   "metadata": {},
   "source": [
    "😏1、先删除‘备注’这一列的一些不符合条件的那些行\n",
    "  WARNING:有多少条是符合关键词的，也就是有多少行需要删除"
   ]
  },
  {
   "cell_type": "code",
   "execution_count": null,
   "id": "0789dd7e",
   "metadata": {},
   "outputs": [],
   "source": [
    "mid = file1[3]['备注'].str.contains('限男')\n",
    "midd = file1[3]['备注'].str.contains('2024届高校毕业生')\n",
    "middd = file1[3]['备注'].str.contains('限应届')\n",
    "new_sort_dt = pd.DataFrame([mid,midd,middd],index=['限男','2024届高校毕业生','限应届'])\n",
    "# new_sort_dt.head()"
   ]
  },
  {
   "cell_type": "code",
   "execution_count": null,
   "id": "501f69bd",
   "metadata": {},
   "outputs": [],
   "source": [
    "new_sort_dt.loc['需要删除的行'] = new_sort_dt.sum()\n",
    "# new_sort_dt\n",
    "sort_data = new_sort_dt.T\n",
    "drop_index = sort_data[sort_data['需要删除的行']>=1].index\n",
    "print(drop_index)\n",
    "drop_index.shape"
   ]
  },
  {
   "cell_type": "code",
   "execution_count": null,
   "id": "6c802833",
   "metadata": {},
   "outputs": [],
   "source": [
    "sort_data[sort_data['需要删除的行']>=1].index"
   ]
  },
  {
   "cell_type": "code",
   "execution_count": null,
   "id": "709abcc6",
   "metadata": {},
   "outputs": [],
   "source": [
    "drop_dt = file1[3].drop(drop_index)\n",
    "drop_dt.shape"
   ]
  },
  {
   "cell_type": "code",
   "execution_count": null,
   "id": "0d6c283a-f398-4401-a380-7005e9e07f8e",
   "metadata": {},
   "outputs": [],
   "source": [
    "i=3\n",
    "# empty = pd.DataFrame(columns=file1[0].columns)\n",
    "# cols = ['政治面貌','基层工作最低年限','服务基层项目工作经历']\n",
    "rows_name=[]\n",
    "drop_dtt = drop_dt[(drop_dt['政治面貌'] == '不限') & (drop_dt['服务基层项目工作经历']=='无限制')&(drop_dt['基层工作最低年限'] == '无限制')]\n",
    "# for j in range(drop_dtt.shape[0]):\n",
    "#     if '经济学' in drop_dtt['专业'][j]:\n",
    "#         if drop_dtt['学历'][j]=='本科及以上'or drop_dtt['学历'][j] =='本科或硕士研究生'or drop_dtt['学历'][j] =='仅限本科'or drop_dtt['学历'][j] =='大专及以上':\n",
    "#             rows_name.append(j)\n",
    "#                         # empty = pd.concat([empty,pd.DataFrame(file1[i].iloc[j].values).T])\n",
    "# empty = drop_dtt.iloc[rows_name]\n",
    "# print('数据来自表%s'%(i))\n",
    "# # print(empty)    \n",
    "# empty.to_excel(r\"D:\\招考\\data_%d.xlsx\"%(i))\n",
    "# # em = pd.DataFrame(columns=file1[0].columns)\n",
    "# print(\"ok\")"
   ]
  },
  {
   "cell_type": "markdown",
   "id": "412a0dcc",
   "metadata": {},
   "source": [
    "2、筛选出专业 和 学历相符的信息，保留那些行"
   ]
  },
  {
   "cell_type": "markdown",
   "id": "9ab7224d",
   "metadata": {},
   "source": [
    "😥😤我知道为啥会说index超出范围了，是因为前面的index是保留的原来的index,而现在用iloc去筛选的index是重新排序的（从0开始）"
   ]
  },
  {
   "cell_type": "code",
   "execution_count": null,
   "id": "8b832a17",
   "metadata": {},
   "outputs": [],
   "source": [
    "sort_index = drop_dtt['专业'].str.contains('经济学')\n",
    "# len(sort_index[sort_index==1])\n",
    "jingji_index = sort_index[sort_index==1].index\n",
    "zhuanye_sort = file1[3].iloc[jingji_index]"
   ]
  },
  {
   "cell_type": "code",
   "execution_count": null,
   "id": "f2939b7b",
   "metadata": {},
   "outputs": [],
   "source": [
    "# drop_dtt.index.difference(jingji_index)"
   ]
  },
  {
   "cell_type": "code",
   "execution_count": null,
   "id": "2fa5cb23",
   "metadata": {},
   "outputs": [],
   "source": []
  },
  {
   "cell_type": "code",
   "execution_count": null,
   "id": "2ca46176",
   "metadata": {},
   "outputs": [],
   "source": [
    "drop_dtt.iloc[jingji_index]"
   ]
  },
  {
   "cell_type": "code",
   "execution_count": null,
   "id": "d02c5522",
   "metadata": {},
   "outputs": [],
   "source": [
    "drop_dtt['专业'][38]"
   ]
  },
  {
   "cell_type": "code",
   "execution_count": null,
   "id": "9ed1aedf",
   "metadata": {},
   "outputs": [],
   "source": [
    "for i in range(drop_dtt.shape[0]):\n",
    "    for j in drop_dtt['专业']:\n",
    "            if '经济学' in j:\n",
    "                print(i)\n",
    "                \n",
    "\n"
   ]
  },
  {
   "cell_type": "code",
   "execution_count": null,
   "id": "cf135a70",
   "metadata": {},
   "outputs": [],
   "source": []
  },
  {
   "cell_type": "code",
   "execution_count": null,
   "id": "a0c6bb8e",
   "metadata": {},
   "outputs": [],
   "source": [
    "drop_dt.shape"
   ]
  },
  {
   "cell_type": "code",
   "execution_count": null,
   "id": "32c5f9ae",
   "metadata": {},
   "outputs": [],
   "source": [
    "drop_dt[(drop_dt['政治面貌'] == '不限') & (drop_dt['服务基层项目工作经历']=='无限制')&(drop_dt['基层工作最低年限'] == '无限制')]"
   ]
  },
  {
   "cell_type": "code",
   "execution_count": null,
   "id": "6b88a9d3",
   "metadata": {},
   "outputs": [],
   "source": [
    "drop_dt[(drop_dt['学历']=='本科及以上') |(drop_dt['学历']=='本科或硕士研究生')].shape"
   ]
  },
  {
   "cell_type": "code",
   "execution_count": null,
   "id": "afef3572",
   "metadata": {},
   "outputs": [],
   "source": [
    "rows_name"
   ]
  },
  {
   "cell_type": "code",
   "execution_count": null,
   "id": "be2a303c",
   "metadata": {},
   "outputs": [],
   "source": [
    "out_name"
   ]
  },
  {
   "cell_type": "code",
   "execution_count": null,
   "id": "bd3d275a",
   "metadata": {},
   "outputs": [],
   "source": [
    "empty"
   ]
  },
  {
   "cell_type": "code",
   "execution_count": null,
   "id": "d6e3bf45-4086-4c05-8d2d-db1a2128f1af",
   "metadata": {},
   "outputs": [],
   "source": [
    "import pandas as pd"
   ]
  },
  {
   "cell_type": "code",
   "execution_count": null,
   "id": "b24b59a8-4621-4ff8-b1d3-f5b1fb4afc00",
   "metadata": {},
   "outputs": [],
   "source": [
    "empty = pd.read_excel(r\"D:\\JYJ\\data_2.xlsx\")"
   ]
  },
  {
   "cell_type": "code",
   "execution_count": null,
   "id": "64b58afc-211f-47c2-8879-94f1aeffec4e",
   "metadata": {},
   "outputs": [],
   "source": [
    "for i in range(3):\n",
    "  mpty[23])"
   ]
  },
  {
   "cell_type": "code",
   "execution_count": null,
   "id": "1f85a04b-9bfd-4484-982c-05cf4cde413d",
   "metadata": {},
   "outputs": [],
   "source": [
    "for i in range(3):\n",
    "    if i not in[0,2]:\n",
    "        print(i)"
   ]
  },
  {
   "cell_type": "code",
   "execution_count": null,
   "id": "1a6ed0fa-a610-40f5-9a08-bf4748bd50a2",
   "metadata": {},
   "outputs": [],
   "source": [
    "# empty[23]=empty[23].astype(str)"
   ]
  },
  {
   "cell_type": "code",
   "execution_count": null,
   "id": "8653d531-81e9-4ff1-b40e-c5fb60be1f07",
   "metadata": {},
   "outputs": [],
   "source": [
    "empty[22]"
   ]
  },
  {
   "cell_type": "code",
   "execution_count": null,
   "id": "8688fce4-a183-4221-a662-8585ebb80d10",
   "metadata": {},
   "outputs": [],
   "source": [
    "'应届高校毕业生' in empty.iloc[4,22]"
   ]
  },
  {
   "cell_type": "code",
   "execution_count": null,
   "id": "0567812a-cbce-41ed-8b6a-072b9002475a",
   "metadata": {},
   "outputs": [],
   "source": [
    "c=[]\n",
    "count=0\n",
    "while count<3239:\n",
    "    if \"应届\" in empty.iloc[count,22] or \"2024届\" in empty.iloc[count,22]:\n",
    "        c.append(0)\n",
    "        pass\n",
    "    else:\n",
    "        c.append(1)\n",
    "    count+=1\n"
   ]
  },
  {
   "cell_type": "code",
   "execution_count": null,
   "id": "1a2cf2f1-d57c-4ac4-a218-5d27502d8e89",
   "metadata": {
    "scrolled": true
   },
   "outputs": [],
   "source": [
    "from collections import Counter\n",
    "Counter(c)"
   ]
  },
  {
   "cell_type": "code",
   "execution_count": null,
   "id": "69b5476c-19ee-454d-acf7-97877807cf40",
   "metadata": {},
   "outputs": [],
   "source": [
    "for 0 in c:\n",
    "    "
   ]
  },
  {
   "cell_type": "code",
   "execution_count": null,
   "id": "6871999c-c5a5-453e-8721-9bd14a661da4",
   "metadata": {},
   "outputs": [],
   "source": [
    "f.to_excel(\"D:\\JYJ\\DATA_F.xlsx\")"
   ]
  },
  {
   "cell_type": "code",
   "execution_count": null,
   "id": "349a6dce-3839-468e-a811-1de119055b9f",
   "metadata": {},
   "outputs": [],
   "source": [
    "em.to_excel(r\"D:\\jyj\\学历.xlsx\",sheet_name=\"学历\")"
   ]
  },
  {
   "cell_type": "code",
   "execution_count": null,
   "id": "752896e3-94f9-437a-a4cf-122f5f0a72ed",
   "metadata": {},
   "outputs": [],
   "source": []
  }
 ],
 "metadata": {
  "kernelspec": {
   "display_name": "Python 3 (ipykernel)",
   "language": "python",
   "name": "python3"
  },
  "language_info": {
   "codemirror_mode": {
    "name": "ipython",
    "version": 3
   },
   "file_extension": ".py",
   "mimetype": "text/x-python",
   "name": "python",
   "nbconvert_exporter": "python",
   "pygments_lexer": "ipython3",
   "version": "3.8.8rc1"
  }
 },
 "nbformat": 4,
 "nbformat_minor": 5
}
